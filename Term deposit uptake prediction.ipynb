{
 "cells": [
  {
   "cell_type": "markdown",
   "metadata": {},
   "source": [
    "# Data Science Challenge\n",
    "\n",
    "Author: Reean Liao \n",
    "\n",
    "Date: July 2021\n",
    "\n",
    "This is a question from hackerrank, which was given to me as a recruitment assessment for an Australian company."
   ]
  },
  {
   "cell_type": "code",
   "execution_count": 1,
   "metadata": {},
   "outputs": [
    {
     "name": "stdout",
     "output_type": "stream",
     "text": [
      "/bin/bash: -c: line 0: syntax error near unexpected token `newline'\n",
      "/bin/bash: -c: line 0: `/opt/conda/bin/python -m pip install <sklearn>'\n"
     ]
    }
   ],
   "source": [
    "# If you'd like to install packages that aren't installed by default, \n",
    "# uncomment the last two lines of this cell and replace <package list> with a list of your packages.\n",
    "# This will ensure your notebook has all the dependencies and works everywhere\n",
    "\n",
    "import sys\n",
    "!{sys.executable} -m pip install <sklearn>"
   ]
  },
  {
   "cell_type": "code",
   "execution_count": 2,
   "metadata": {},
   "outputs": [],
   "source": [
    "#Libraries\n",
    "import pandas as pd\n",
    "pd.set_option(\"display.max_columns\", 101)\n",
    "from matplotlib import pyplot as plt\n",
    "import seaborn as sns\n",
    "import numpy as np\n",
    "\n",
    "from sklearn.model_selection import train_test_split\n",
    "from sklearn.model_selection import cross_val_score\n",
    "from sklearn.model_selection import GridSearchCV\n",
    "from sklearn.linear_model import LogisticRegression\n",
    "from sklearn.ensemble import RandomForestClassifier\n",
    "from sklearn.ensemble import GradientBoostingClassifier\n",
    "from sklearn.naive_bayes import GaussianNB\n",
    "from sklearn.svm import LinearSVC\n",
    "from sklearn.metrics import f1_score"
   ]
  },
  {
   "cell_type": "markdown",
   "metadata": {},
   "source": [
    "## Data Description"
   ]
  },
  {
   "cell_type": "markdown",
   "metadata": {},
   "source": [
    "\n",
    "Column | Description\n",
    ":---|:---\n",
    "`client_id` | Unique ID of the client called [unique key]\n",
    "`age_bracket` | Age bracket of the contacted client (in years)\n",
    "`job` | job type of the contacted client\n",
    "`marital` | marital status of the contacted client\n",
    "`education` | highest level of education done by the client\n",
    "`has_housing_loan` | Whether the client has a house loan (binary: yes,no)\n",
    "`has_personal_loan` | Whether the client has a personal loan (binary: yes,no)\n",
    "`prev_call_duration` | last contact duration (value = 0 if the client has not been contacted ever)\n",
    "`days_since_last_call` | number of days that passed by after the client was last contacted from a previous campaign (numeric; 999 means client was not previously contacted)\n",
    "`num_contacts_prev` | number of contacts performed before this campaign and for this client (numeric)\n",
    "`poutcome` | outcome of the previous marketing campaign (categorical: \"failure\",\"nonexistent\",\"success\")\n",
    "`contact_date` | date at which contact was made with the client (YYYY-MM-DD)\n",
    "`cpi` | standing consumer price index before the call (monthly indicator)\n",
    "`subs_deposit` | has the client subscribed to a term deposit? (binary: 1,0) [dependent variable]"
   ]
  },
  {
   "cell_type": "markdown",
   "metadata": {},
   "source": [
    "## Data Wrangling & Visualization"
   ]
  },
  {
   "cell_type": "code",
   "execution_count": 3,
   "metadata": {},
   "outputs": [
    {
     "name": "stdout",
     "output_type": "stream",
     "text": [
      "(4000, 14)\n"
     ]
    }
   ],
   "source": [
    "# Loading Train data\n",
    "data_train = pd.read_csv(\"train.csv\", parse_dates = ['contact_date'])\n",
    "data_train.head()\n",
    "print(data_train.shape)"
   ]
  },
  {
   "cell_type": "markdown",
   "metadata": {},
   "source": [
    "There are 4000 rows and 14 columsn in the training dataset."
   ]
  },
  {
   "cell_type": "code",
   "execution_count": 4,
   "metadata": {},
   "outputs": [
    {
     "data": {
      "text/plain": [
       "Index(['client_id', 'age_bracket', 'job', 'marital', 'education',\n",
       "       'has_housing_loan', 'has_personal_loan', 'prev_call_duration',\n",
       "       'days_since_last_call', 'num_contacts_prev', 'poutcome', 'contact_date',\n",
       "       'cpi', 'subs_deposit'],\n",
       "      dtype='object')"
      ]
     },
     "execution_count": 4,
     "metadata": {},
     "output_type": "execute_result"
    }
   ],
   "source": [
    "#Explore columns\n",
    "data_train.columns"
   ]
  },
  {
   "cell_type": "code",
   "execution_count": 9,
   "metadata": {},
   "outputs": [
    {
     "data": {
      "text/plain": [
       "client_id               0\n",
       "age_bracket             0\n",
       "job                     0\n",
       "marital                 0\n",
       "education               0\n",
       "has_housing_loan        0\n",
       "has_personal_loan       0\n",
       "prev_call_duration      0\n",
       "days_since_last_call    0\n",
       "num_contacts_prev       0\n",
       "poutcome                0\n",
       "contact_date            0\n",
       "cpi                     0\n",
       "subs_deposit            0\n",
       "dtype: int64"
      ]
     },
     "execution_count": 9,
     "metadata": {},
     "output_type": "execute_result"
    }
   ],
   "source": [
    "#Count missing value\n",
    "data_train.isnull().sum(axis = 0)"
   ]
  },
  {
   "cell_type": "markdown",
   "metadata": {},
   "source": [
    "There doesn't seem to be missing values in the training dataset."
   ]
  },
  {
   "cell_type": "code",
   "execution_count": 5,
   "metadata": {},
   "outputs": [
    {
     "data": {
      "text/html": [
       "<div>\n",
       "<style scoped>\n",
       "    .dataframe tbody tr th:only-of-type {\n",
       "        vertical-align: middle;\n",
       "    }\n",
       "\n",
       "    .dataframe tbody tr th {\n",
       "        vertical-align: top;\n",
       "    }\n",
       "\n",
       "    .dataframe thead th {\n",
       "        text-align: right;\n",
       "    }\n",
       "</style>\n",
       "<table border=\"1\" class=\"dataframe\">\n",
       "  <thead>\n",
       "    <tr style=\"text-align: right;\">\n",
       "      <th></th>\n",
       "      <th>client_id</th>\n",
       "      <th>prev_call_duration</th>\n",
       "      <th>days_since_last_call</th>\n",
       "      <th>num_contacts_prev</th>\n",
       "      <th>cpi</th>\n",
       "      <th>subs_deposit</th>\n",
       "    </tr>\n",
       "  </thead>\n",
       "  <tbody>\n",
       "    <tr>\n",
       "      <th>count</th>\n",
       "      <td>4000.00000</td>\n",
       "      <td>4000.000000</td>\n",
       "      <td>4000.000000</td>\n",
       "      <td>4000.000000</td>\n",
       "      <td>4000.000000</td>\n",
       "      <td>4000.000000</td>\n",
       "    </tr>\n",
       "    <tr>\n",
       "      <th>mean</th>\n",
       "      <td>22430.64275</td>\n",
       "      <td>3871.142250</td>\n",
       "      <td>903.150750</td>\n",
       "      <td>0.272000</td>\n",
       "      <td>107.348378</td>\n",
       "      <td>0.397500</td>\n",
       "    </tr>\n",
       "    <tr>\n",
       "      <th>std</th>\n",
       "      <td>12052.91754</td>\n",
       "      <td>26080.549053</td>\n",
       "      <td>293.323535</td>\n",
       "      <td>0.643132</td>\n",
       "      <td>107.885469</td>\n",
       "      <td>0.489442</td>\n",
       "    </tr>\n",
       "    <tr>\n",
       "      <th>min</th>\n",
       "      <td>17.00000</td>\n",
       "      <td>2.000000</td>\n",
       "      <td>0.000000</td>\n",
       "      <td>0.000000</td>\n",
       "      <td>92.201000</td>\n",
       "      <td>0.000000</td>\n",
       "    </tr>\n",
       "    <tr>\n",
       "      <th>5%</th>\n",
       "      <td>2543.90000</td>\n",
       "      <td>50.000000</td>\n",
       "      <td>6.000000</td>\n",
       "      <td>0.000000</td>\n",
       "      <td>92.431000</td>\n",
       "      <td>0.000000</td>\n",
       "    </tr>\n",
       "    <tr>\n",
       "      <th>50%</th>\n",
       "      <td>23336.50000</td>\n",
       "      <td>237.000000</td>\n",
       "      <td>999.000000</td>\n",
       "      <td>0.000000</td>\n",
       "      <td>93.444000</td>\n",
       "      <td>0.000000</td>\n",
       "    </tr>\n",
       "    <tr>\n",
       "      <th>95%</th>\n",
       "      <td>39701.30000</td>\n",
       "      <td>1030.100000</td>\n",
       "      <td>999.000000</td>\n",
       "      <td>2.000000</td>\n",
       "      <td>94.465000</td>\n",
       "      <td>1.000000</td>\n",
       "    </tr>\n",
       "    <tr>\n",
       "      <th>97.5%</th>\n",
       "      <td>40633.02500</td>\n",
       "      <td>1269.050000</td>\n",
       "      <td>999.000000</td>\n",
       "      <td>2.000000</td>\n",
       "      <td>94.465000</td>\n",
       "      <td>1.000000</td>\n",
       "    </tr>\n",
       "    <tr>\n",
       "      <th>99%</th>\n",
       "      <td>40922.02000</td>\n",
       "      <td>157400.000000</td>\n",
       "      <td>999.000000</td>\n",
       "      <td>3.000000</td>\n",
       "      <td>946.010000</td>\n",
       "      <td>1.000000</td>\n",
       "    </tr>\n",
       "    <tr>\n",
       "      <th>max</th>\n",
       "      <td>41186.00000</td>\n",
       "      <td>419900.000000</td>\n",
       "      <td>999.000000</td>\n",
       "      <td>6.000000</td>\n",
       "      <td>947.670000</td>\n",
       "      <td>1.000000</td>\n",
       "    </tr>\n",
       "  </tbody>\n",
       "</table>\n",
       "</div>"
      ],
      "text/plain": [
       "         client_id  prev_call_duration  days_since_last_call  \\\n",
       "count   4000.00000         4000.000000           4000.000000   \n",
       "mean   22430.64275         3871.142250            903.150750   \n",
       "std    12052.91754        26080.549053            293.323535   \n",
       "min       17.00000            2.000000              0.000000   \n",
       "5%      2543.90000           50.000000              6.000000   \n",
       "50%    23336.50000          237.000000            999.000000   \n",
       "95%    39701.30000         1030.100000            999.000000   \n",
       "97.5%  40633.02500         1269.050000            999.000000   \n",
       "99%    40922.02000       157400.000000            999.000000   \n",
       "max    41186.00000       419900.000000            999.000000   \n",
       "\n",
       "       num_contacts_prev          cpi  subs_deposit  \n",
       "count        4000.000000  4000.000000   4000.000000  \n",
       "mean            0.272000   107.348378      0.397500  \n",
       "std             0.643132   107.885469      0.489442  \n",
       "min             0.000000    92.201000      0.000000  \n",
       "5%              0.000000    92.431000      0.000000  \n",
       "50%             0.000000    93.444000      0.000000  \n",
       "95%             2.000000    94.465000      1.000000  \n",
       "97.5%           2.000000    94.465000      1.000000  \n",
       "99%             3.000000   946.010000      1.000000  \n",
       "max             6.000000   947.670000      1.000000  "
      ]
     },
     "execution_count": 5,
     "metadata": {},
     "output_type": "execute_result"
    }
   ],
   "source": [
    "#Description\n",
    "data_train.describe(percentiles = [0.05,0.5,0.95,0.975,0.99])"
   ]
  },
  {
   "cell_type": "markdown",
   "metadata": {},
   "source": [
    "From the above description of of the numeric columns (`client_id` here is treated as numeric value, will ignore this for the time being), we can gather that:\n",
    "   * target variable `subs_deposit` has a mean of 0.4, in other words, target class is fairly balanced\n",
    "   * `prev_call_duration` has some abnormally high numbers. This is supposed to be the call duration in the last contact, assuming the measure unit is seconds, having a number as high as 419900 doesn't make a lot of sense\n",
    "   * `cpi` also has abnormally high numbers. This is supposed to be the Consumer Price Index. Having a CPI as high as 946 would suggest hyper inflation - given at least 97.5% of the records are under 100 (in a deflation economy), this feels wrong.\n",
    "    \n",
    "We will remove these rows from the model training."
   ]
  },
  {
   "cell_type": "code",
   "execution_count": 16,
   "metadata": {},
   "outputs": [
    {
     "data": {
      "text/plain": [
       "(3857, 14)"
      ]
     },
     "execution_count": 16,
     "metadata": {},
     "output_type": "execute_result"
    }
   ],
   "source": [
    "#Remove outliers\n",
    "data_train=data_train[(data_train['prev_call_duration']<=1440) & (data_train['cpi']<=100)]\n",
    "#Keeping records where previous call is <= 1440 minutes (24 hours) and CPI is less than 100\n",
    "data_train.shape"
   ]
  },
  {
   "cell_type": "markdown",
   "metadata": {},
   "source": [
    "3857 records remain."
   ]
  },
  {
   "cell_type": "code",
   "execution_count": 24,
   "metadata": {},
   "outputs": [
    {
     "data": {
      "text/html": [
       "<div>\n",
       "<style scoped>\n",
       "    .dataframe tbody tr th:only-of-type {\n",
       "        vertical-align: middle;\n",
       "    }\n",
       "\n",
       "    .dataframe tbody tr th {\n",
       "        vertical-align: top;\n",
       "    }\n",
       "\n",
       "    .dataframe thead tr th {\n",
       "        text-align: left;\n",
       "    }\n",
       "\n",
       "    .dataframe thead tr:last-of-type th {\n",
       "        text-align: right;\n",
       "    }\n",
       "</style>\n",
       "<table border=\"1\" class=\"dataframe\">\n",
       "  <thead>\n",
       "    <tr>\n",
       "      <th></th>\n",
       "      <th colspan=\"7\" halign=\"left\">client_id</th>\n",
       "    </tr>\n",
       "    <tr>\n",
       "      <th>num_contacts_prev</th>\n",
       "      <th>0</th>\n",
       "      <th>1</th>\n",
       "      <th>2</th>\n",
       "      <th>3</th>\n",
       "      <th>4</th>\n",
       "      <th>5</th>\n",
       "      <th>6</th>\n",
       "    </tr>\n",
       "    <tr>\n",
       "      <th>days_since_last_call</th>\n",
       "      <th></th>\n",
       "      <th></th>\n",
       "      <th></th>\n",
       "      <th></th>\n",
       "      <th></th>\n",
       "      <th></th>\n",
       "      <th></th>\n",
       "    </tr>\n",
       "  </thead>\n",
       "  <tbody>\n",
       "    <tr>\n",
       "      <th>0</th>\n",
       "      <td>NaN</td>\n",
       "      <td>3.0</td>\n",
       "      <td>NaN</td>\n",
       "      <td>2.0</td>\n",
       "      <td>NaN</td>\n",
       "      <td>NaN</td>\n",
       "      <td>NaN</td>\n",
       "    </tr>\n",
       "    <tr>\n",
       "      <th>1</th>\n",
       "      <td>NaN</td>\n",
       "      <td>4.0</td>\n",
       "      <td>1.0</td>\n",
       "      <td>1.0</td>\n",
       "      <td>NaN</td>\n",
       "      <td>NaN</td>\n",
       "      <td>NaN</td>\n",
       "    </tr>\n",
       "    <tr>\n",
       "      <th>2</th>\n",
       "      <td>NaN</td>\n",
       "      <td>11.0</td>\n",
       "      <td>2.0</td>\n",
       "      <td>1.0</td>\n",
       "      <td>NaN</td>\n",
       "      <td>NaN</td>\n",
       "      <td>NaN</td>\n",
       "    </tr>\n",
       "    <tr>\n",
       "      <th>3</th>\n",
       "      <td>NaN</td>\n",
       "      <td>53.0</td>\n",
       "      <td>33.0</td>\n",
       "      <td>13.0</td>\n",
       "      <td>3.0</td>\n",
       "      <td>3.0</td>\n",
       "      <td>1.0</td>\n",
       "    </tr>\n",
       "    <tr>\n",
       "      <th>4</th>\n",
       "      <td>NaN</td>\n",
       "      <td>14.0</td>\n",
       "      <td>7.0</td>\n",
       "      <td>6.0</td>\n",
       "      <td>NaN</td>\n",
       "      <td>NaN</td>\n",
       "      <td>NaN</td>\n",
       "    </tr>\n",
       "    <tr>\n",
       "      <th>5</th>\n",
       "      <td>NaN</td>\n",
       "      <td>8.0</td>\n",
       "      <td>4.0</td>\n",
       "      <td>1.0</td>\n",
       "      <td>NaN</td>\n",
       "      <td>NaN</td>\n",
       "      <td>NaN</td>\n",
       "    </tr>\n",
       "    <tr>\n",
       "      <th>6</th>\n",
       "      <td>NaN</td>\n",
       "      <td>56.0</td>\n",
       "      <td>33.0</td>\n",
       "      <td>18.0</td>\n",
       "      <td>2.0</td>\n",
       "      <td>1.0</td>\n",
       "      <td>NaN</td>\n",
       "    </tr>\n",
       "    <tr>\n",
       "      <th>7</th>\n",
       "      <td>NaN</td>\n",
       "      <td>7.0</td>\n",
       "      <td>3.0</td>\n",
       "      <td>1.0</td>\n",
       "      <td>1.0</td>\n",
       "      <td>NaN</td>\n",
       "      <td>NaN</td>\n",
       "    </tr>\n",
       "    <tr>\n",
       "      <th>8</th>\n",
       "      <td>NaN</td>\n",
       "      <td>2.0</td>\n",
       "      <td>1.0</td>\n",
       "      <td>1.0</td>\n",
       "      <td>NaN</td>\n",
       "      <td>NaN</td>\n",
       "      <td>NaN</td>\n",
       "    </tr>\n",
       "    <tr>\n",
       "      <th>9</th>\n",
       "      <td>NaN</td>\n",
       "      <td>4.0</td>\n",
       "      <td>1.0</td>\n",
       "      <td>2.0</td>\n",
       "      <td>2.0</td>\n",
       "      <td>NaN</td>\n",
       "      <td>NaN</td>\n",
       "    </tr>\n",
       "    <tr>\n",
       "      <th>10</th>\n",
       "      <td>NaN</td>\n",
       "      <td>8.0</td>\n",
       "      <td>2.0</td>\n",
       "      <td>1.0</td>\n",
       "      <td>1.0</td>\n",
       "      <td>NaN</td>\n",
       "      <td>NaN</td>\n",
       "    </tr>\n",
       "    <tr>\n",
       "      <th>11</th>\n",
       "      <td>NaN</td>\n",
       "      <td>5.0</td>\n",
       "      <td>4.0</td>\n",
       "      <td>NaN</td>\n",
       "      <td>NaN</td>\n",
       "      <td>NaN</td>\n",
       "      <td>NaN</td>\n",
       "    </tr>\n",
       "    <tr>\n",
       "      <th>12</th>\n",
       "      <td>NaN</td>\n",
       "      <td>5.0</td>\n",
       "      <td>1.0</td>\n",
       "      <td>NaN</td>\n",
       "      <td>NaN</td>\n",
       "      <td>NaN</td>\n",
       "      <td>NaN</td>\n",
       "    </tr>\n",
       "    <tr>\n",
       "      <th>13</th>\n",
       "      <td>NaN</td>\n",
       "      <td>6.0</td>\n",
       "      <td>2.0</td>\n",
       "      <td>NaN</td>\n",
       "      <td>NaN</td>\n",
       "      <td>NaN</td>\n",
       "      <td>NaN</td>\n",
       "    </tr>\n",
       "    <tr>\n",
       "      <th>14</th>\n",
       "      <td>NaN</td>\n",
       "      <td>2.0</td>\n",
       "      <td>1.0</td>\n",
       "      <td>NaN</td>\n",
       "      <td>NaN</td>\n",
       "      <td>NaN</td>\n",
       "      <td>NaN</td>\n",
       "    </tr>\n",
       "    <tr>\n",
       "      <th>15</th>\n",
       "      <td>NaN</td>\n",
       "      <td>3.0</td>\n",
       "      <td>NaN</td>\n",
       "      <td>NaN</td>\n",
       "      <td>NaN</td>\n",
       "      <td>NaN</td>\n",
       "      <td>NaN</td>\n",
       "    </tr>\n",
       "    <tr>\n",
       "      <th>16</th>\n",
       "      <td>NaN</td>\n",
       "      <td>1.0</td>\n",
       "      <td>1.0</td>\n",
       "      <td>NaN</td>\n",
       "      <td>NaN</td>\n",
       "      <td>NaN</td>\n",
       "      <td>NaN</td>\n",
       "    </tr>\n",
       "    <tr>\n",
       "      <th>17</th>\n",
       "      <td>NaN</td>\n",
       "      <td>NaN</td>\n",
       "      <td>1.0</td>\n",
       "      <td>NaN</td>\n",
       "      <td>NaN</td>\n",
       "      <td>NaN</td>\n",
       "      <td>NaN</td>\n",
       "    </tr>\n",
       "    <tr>\n",
       "      <th>22</th>\n",
       "      <td>NaN</td>\n",
       "      <td>1.0</td>\n",
       "      <td>NaN</td>\n",
       "      <td>NaN</td>\n",
       "      <td>NaN</td>\n",
       "      <td>NaN</td>\n",
       "      <td>NaN</td>\n",
       "    </tr>\n",
       "    <tr>\n",
       "      <th>25</th>\n",
       "      <td>NaN</td>\n",
       "      <td>NaN</td>\n",
       "      <td>1.0</td>\n",
       "      <td>NaN</td>\n",
       "      <td>NaN</td>\n",
       "      <td>NaN</td>\n",
       "      <td>NaN</td>\n",
       "    </tr>\n",
       "    <tr>\n",
       "      <th>26</th>\n",
       "      <td>NaN</td>\n",
       "      <td>1.0</td>\n",
       "      <td>NaN</td>\n",
       "      <td>NaN</td>\n",
       "      <td>NaN</td>\n",
       "      <td>NaN</td>\n",
       "      <td>NaN</td>\n",
       "    </tr>\n",
       "    <tr>\n",
       "      <th>999</th>\n",
       "      <td>3127.0</td>\n",
       "      <td>341.0</td>\n",
       "      <td>33.0</td>\n",
       "      <td>3.0</td>\n",
       "      <td>NaN</td>\n",
       "      <td>NaN</td>\n",
       "      <td>NaN</td>\n",
       "    </tr>\n",
       "  </tbody>\n",
       "</table>\n",
       "</div>"
      ],
      "text/plain": [
       "                     client_id                                  \n",
       "num_contacts_prev            0      1     2     3    4    5    6\n",
       "days_since_last_call                                            \n",
       "0                          NaN    3.0   NaN   2.0  NaN  NaN  NaN\n",
       "1                          NaN    4.0   1.0   1.0  NaN  NaN  NaN\n",
       "2                          NaN   11.0   2.0   1.0  NaN  NaN  NaN\n",
       "3                          NaN   53.0  33.0  13.0  3.0  3.0  1.0\n",
       "4                          NaN   14.0   7.0   6.0  NaN  NaN  NaN\n",
       "5                          NaN    8.0   4.0   1.0  NaN  NaN  NaN\n",
       "6                          NaN   56.0  33.0  18.0  2.0  1.0  NaN\n",
       "7                          NaN    7.0   3.0   1.0  1.0  NaN  NaN\n",
       "8                          NaN    2.0   1.0   1.0  NaN  NaN  NaN\n",
       "9                          NaN    4.0   1.0   2.0  2.0  NaN  NaN\n",
       "10                         NaN    8.0   2.0   1.0  1.0  NaN  NaN\n",
       "11                         NaN    5.0   4.0   NaN  NaN  NaN  NaN\n",
       "12                         NaN    5.0   1.0   NaN  NaN  NaN  NaN\n",
       "13                         NaN    6.0   2.0   NaN  NaN  NaN  NaN\n",
       "14                         NaN    2.0   1.0   NaN  NaN  NaN  NaN\n",
       "15                         NaN    3.0   NaN   NaN  NaN  NaN  NaN\n",
       "16                         NaN    1.0   1.0   NaN  NaN  NaN  NaN\n",
       "17                         NaN    NaN   1.0   NaN  NaN  NaN  NaN\n",
       "22                         NaN    1.0   NaN   NaN  NaN  NaN  NaN\n",
       "25                         NaN    NaN   1.0   NaN  NaN  NaN  NaN\n",
       "26                         NaN    1.0   NaN   NaN  NaN  NaN  NaN\n",
       "999                     3127.0  341.0  33.0   3.0  NaN  NaN  NaN"
      ]
     },
     "execution_count": 24,
     "metadata": {},
     "output_type": "execute_result"
    }
   ],
   "source": [
    "#Use pivot to tally up records\n",
    "data_train[['client_id', 'days_since_last_call','num_contacts_prev']].pivot_table(index='days_since_last_call', \n",
    "                                                                     columns='num_contacts_prev', aggfunc='count')"
   ]
  },
  {
   "cell_type": "markdown",
   "metadata": {},
   "source": [
    "Here, when there have been no previous contacts (`num_contacts_prev` =0), the days `days_since_last_call` is all 999, which is correct. But when there have been previous contact, we still see 377 (341+33+3) records with 999 as `days_since_last_call`. This is incorrect and would need further investigation to find out why this is the case, and to find out what the real values should be for these records. But for the purpose of this exercise, we will remove these records from training.  "
   ]
  },
  {
   "cell_type": "code",
   "execution_count": 28,
   "metadata": {},
   "outputs": [
    {
     "data": {
      "text/plain": [
       "(3480, 14)"
      ]
     },
     "execution_count": 28,
     "metadata": {},
     "output_type": "execute_result"
    }
   ],
   "source": [
    "#Remove outliers\n",
    "data_train=data_train[~((data_train['days_since_last_call']==999) & (data_train['num_contacts_prev']!=0))]\n",
    "#Removing records where days since last call is 999 but previous contacts is not 0\n",
    "data_train.shape"
   ]
  },
  {
   "cell_type": "markdown",
   "metadata": {},
   "source": [
    "3480 records remain.\n",
    "\n",
    "## Feature Engineering\n",
    "\n",
    "Since there is a mix of numeric and categorical features present. We will one-hot encode all the categorical variables."
   ]
  },
  {
   "cell_type": "code",
   "execution_count": 29,
   "metadata": {},
   "outputs": [],
   "source": [
    "#Separate features\n",
    "numeric_features=data_train[['prev_call_duration', 'days_since_last_call', 'num_contacts_prev','cpi']]\n",
    "cat_features=data_train[['age_bracket','job', 'marital','education', 'has_housing_loan', 'has_personal_loan', 'poutcome']]"
   ]
  },
  {
   "cell_type": "code",
   "execution_count": 32,
   "metadata": {},
   "outputs": [],
   "source": [
    "y_train=data_train['subs_deposit']"
   ]
  },
  {
   "cell_type": "code",
   "execution_count": 30,
   "metadata": {},
   "outputs": [],
   "source": [
    "#One hot encode\n",
    "cat_features_encoded=pd.get_dummies(cat_features)"
   ]
  },
  {
   "cell_type": "code",
   "execution_count": 43,
   "metadata": {},
   "outputs": [],
   "source": [
    "#Concat features together\n",
    "x_train=pd.concat([cat_features_encoded, numeric_features], axis=1, sort=False)"
   ]
  },
  {
   "cell_type": "code",
   "execution_count": 45,
   "metadata": {},
   "outputs": [
    {
     "data": {
      "text/plain": [
       "(3480, 34)"
      ]
     },
     "execution_count": 45,
     "metadata": {},
     "output_type": "execute_result"
    }
   ],
   "source": [
    "x_train.shape"
   ]
  },
  {
   "cell_type": "markdown",
   "metadata": {},
   "source": [
    "34 features will be used in modelling."
   ]
  },
  {
   "cell_type": "markdown",
   "metadata": {},
   "source": [
    "## Visualization, Modeling, Machine Learning\n",
    "\n",
    " Can you help Lending Bank to predict whether a client would subscribe to the term deposit and explain how different features affect that? Please explain your findings effectively to technical and non-technical audiences using comments and visualizations, if appropriate.\n",
    "- **Build an optimized model that effectively solves the business problem.**\n",
    "- **The model would be evaluated on the basis of F1 score.**\n",
    "- **Read the test.csv file and prepare features for testing.**"
   ]
  },
  {
   "cell_type": "markdown",
   "metadata": {},
   "source": [
    "### Select Base Model"
   ]
  },
  {
   "cell_type": "code",
   "execution_count": 57,
   "metadata": {},
   "outputs": [],
   "source": [
    "#Set some baseline model to test\n",
    "logit=LogisticRegression(random_state=20210717, solver='liblinear')\n",
    "rforest=RandomForestClassifier(n_estimators=200, max_depth=3, random_state=20210717)\n",
    "linearSVC=LinearSVC(random_state=20210717, max_iter=2000, dual=False)\n",
    "gaussianBayes=GaussianNB()\n",
    "gBoost=GradientBoostingClassifier(n_estimators=100, learning_rate=0.1, max_depth=3, random_state=20210717)"
   ]
  },
  {
   "cell_type": "code",
   "execution_count": 58,
   "metadata": {},
   "outputs": [],
   "source": [
    "models = [logit, rforest,linearSVC, gaussianBayes, gBoost]"
   ]
  },
  {
   "cell_type": "code",
   "execution_count": 50,
   "metadata": {},
   "outputs": [],
   "source": [
    "#Function to get cross validation result for a list of models\n",
    "def get_model_cv(model_list, features, labels, scoring, cv,):\n",
    "\n",
    "    #build a df for the cv results\n",
    "    df_cv = pd.DataFrame(index=range(cv * len(model_list)))\n",
    "    entries = []\n",
    "    \n",
    "    for model in model_list:\n",
    "        model_name = model.__class__.__name__\n",
    "        \n",
    "        performance = cross_val_score(model, features, labels, scoring=scoring, cv=cv)\n",
    "    \n",
    "        for fold_idx, accuracy in enumerate(performance):\n",
    "            entries.append((model_name, fold_idx, accuracy))\n",
    "    \n",
    "    df_cv = pd.DataFrame(entries, columns=['modelName', 'foldIndex', 'Performance'])\n",
    "    \n",
    "    return df_cv"
   ]
  },
  {
   "cell_type": "code",
   "execution_count": 59,
   "metadata": {},
   "outputs": [],
   "source": [
    "df_model_cv=get_model_cv(model_list=models, features=x_train, labels=y_train, scoring='f1', cv=5)"
   ]
  },
  {
   "cell_type": "code",
   "execution_count": 60,
   "metadata": {},
   "outputs": [
    {
     "data": {
      "image/png": "[encoded data removed]",
      "text/plain": [
       "<Figure size 864x432 with 1 Axes>"
      ]
     },
     "metadata": {
      "needs_background": "light"
     },
     "output_type": "display_data"
    }
   ],
   "source": [
    "#Visualise CV results\n",
    "plt.figure(figsize=(12,6))\n",
    "sns.boxplot(x='modelName', y='Performance', data=df_model_cv, palette='Set3')\n",
    "sns.stripplot(x='modelName', y='Performance', data=df_model_cv, \n",
    "              size=8, jitter=True, edgecolor=\"gray\", linewidth=1, palette='Set3')\n",
    "plt.show()"
   ]
  },
  {
   "cell_type": "markdown",
   "metadata": {},
   "source": [
    "The best based model seems to be Gradient Boosting Classifier, with f1 score around 0.8 to 0.85. We will take this and move onto hyper parameter tuning."
   ]
  },
  {
   "cell_type": "markdown",
   "metadata": {},
   "source": [
    "### Hyper Parameter Tuning"
   ]
  },
  {
   "cell_type": "code",
   "execution_count": 63,
   "metadata": {},
   "outputs": [
    {
     "name": "stdout",
     "output_type": "stream",
     "text": [
      "Fitting 5 folds for each of 105 candidates, totalling 525 fits\n"
     ]
    },
    {
     "name": "stderr",
     "output_type": "stream",
     "text": [
      "[Parallel(n_jobs=2)]: Using backend LokyBackend with 2 concurrent workers.\n",
      "[Parallel(n_jobs=2)]: Done  28 tasks      | elapsed:   16.9s\n",
      "[Parallel(n_jobs=2)]: Done 124 tasks      | elapsed:  2.3min\n",
      "[Parallel(n_jobs=2)]: Done 284 tasks      | elapsed:  5.5min\n",
      "[Parallel(n_jobs=2)]: Done 508 tasks      | elapsed:  9.6min\n",
      "[Parallel(n_jobs=2)]: Done 525 out of 525 | elapsed: 10.2min finished\n"
     ]
    },
    {
     "data": {
      "text/plain": [
       "GridSearchCV(cv=5, error_score='raise-deprecating',\n",
       "             estimator=GradientBoostingClassifier(criterion='friedman_mse',\n",
       "                                                  init=None, learning_rate=0.1,\n",
       "                                                  loss='deviance', max_depth=3,\n",
       "                                                  max_features=None,\n",
       "                                                  max_leaf_nodes=None,\n",
       "                                                  min_impurity_decrease=0.0,\n",
       "                                                  min_impurity_split=None,\n",
       "                                                  min_samples_leaf=1,\n",
       "                                                  min_samples_split=2,\n",
       "                                                  min_weight_fraction_leaf=0.0,\n",
       "                                                  n_estimators=100,\n",
       "                                                  n_iter_no_change=None,\n",
       "                                                  presort='auto',\n",
       "                                                  random_state=None,\n",
       "                                                  subsample=1.0, tol=0.0001,\n",
       "                                                  validation_fraction=0.1,\n",
       "                                                  verbose=0, warm_start=False),\n",
       "             iid='warn', n_jobs=2,\n",
       "             param_grid={'learning_rate': [0.01, 0.025, 0.05, 0.075, 0.1, 0.15,\n",
       "                                           0.2],\n",
       "                         'max_depth': [3, 5, 7],\n",
       "                         'n_estimators': [100, 150, 200, 250, 300]},\n",
       "             pre_dispatch='2*n_jobs', refit=True, return_train_score=False,\n",
       "             scoring='f1', verbose=3)"
      ]
     },
     "execution_count": 63,
     "metadata": {},
     "output_type": "execute_result"
    }
   ],
   "source": [
    "#Grid search - just trying a few\n",
    "parameters = {\n",
    "    'learning_rate': [0.01, 0.025, 0.05, 0.075, 0.1, 0.15, 0.2],\n",
    "    'n_estimators': [100, 150, 200, 250, 300],\n",
    "    'max_depth': [3, 5, 7]\n",
    "}\n",
    "\n",
    "grid_search_tune = GridSearchCV(GradientBoostingClassifier(), parameters, scoring='f1', cv=5, n_jobs=2, verbose=3)\n",
    "grid_search_tune.fit(x_train, y_train)"
   ]
  },
  {
   "cell_type": "code",
   "execution_count": 65,
   "metadata": {},
   "outputs": [
    {
     "name": "stdout",
     "output_type": "stream",
     "text": [
      "The best set of the hyper parameters are:\n"
     ]
    },
    {
     "data": {
      "text/plain": [
       "{'learning_rate': 0.05, 'max_depth': 5, 'n_estimators': 250}"
      ]
     },
     "execution_count": 65,
     "metadata": {},
     "output_type": "execute_result"
    }
   ],
   "source": [
    "print('The best set of the hyper parameters are:')\n",
    "grid_search_tune.best_params_"
   ]
  },
  {
   "cell_type": "code",
   "execution_count": 66,
   "metadata": {},
   "outputs": [
    {
     "data": {
      "text/plain": [
       "0.9279210925644917"
      ]
     },
     "execution_count": 66,
     "metadata": {},
     "output_type": "execute_result"
    }
   ],
   "source": [
    "grid_search_tune.score(x_train, y_train)"
   ]
  },
  {
   "cell_type": "markdown",
   "metadata": {},
   "source": [
    "With the best hyper parameters, the training f1 score reaches 0.93."
   ]
  },
  {
   "cell_type": "code",
   "execution_count": 67,
   "metadata": {},
   "outputs": [
    {
     "data": {
      "text/plain": [
       "GradientBoostingClassifier(criterion='friedman_mse', init=None,\n",
       "                           learning_rate=0.05, loss='deviance', max_depth=5,\n",
       "                           max_features=None, max_leaf_nodes=None,\n",
       "                           min_impurity_decrease=0.0, min_impurity_split=None,\n",
       "                           min_samples_leaf=1, min_samples_split=2,\n",
       "                           min_weight_fraction_leaf=0.0, n_estimators=250,\n",
       "                           n_iter_no_change=None, presort='auto',\n",
       "                           random_state=20210717, subsample=1.0, tol=0.0001,\n",
       "                           validation_fraction=0.1, verbose=0,\n",
       "                           warm_start=False)"
      ]
     },
     "execution_count": 67,
     "metadata": {},
     "output_type": "execute_result"
    }
   ],
   "source": [
    "#Build the optimised model\n",
    "best_model=GradientBoostingClassifier(n_estimators=250, learning_rate=0.05, max_depth=5, random_state=20210717)\n",
    "best_model.fit(x_train, y_train)"
   ]
  },
  {
   "cell_type": "markdown",
   "metadata": {},
   "source": [
    "\n",
    "\n",
    "**The bank wants to know what are the most important features for your model.  Can you tell them?**\n",
    "\n",
    "> #### Task:\n",
    "- **Visualize the top 20 features and their feature importance.**\n"
   ]
  },
  {
   "cell_type": "code",
   "execution_count": 71,
   "metadata": {},
   "outputs": [],
   "source": [
    "#Get feature importance from the fitted model\n",
    "importance = best_model.feature_importances_\n",
    "\n",
    "top_n=20\n",
    "\n",
    "feature_importance = pd.DataFrame({'importance':best_model.feature_importances_})    \n",
    "feature_importance['feature'] = x_train.columns\n",
    "feature_importance.sort_values(by='importance', ascending=False, inplace=True)\n",
    "feature_importance = feature_importance.iloc[:top_n]"
   ]
  },
  {
   "cell_type": "code",
   "execution_count": 72,
   "metadata": {},
   "outputs": [
    {
     "data": {
      "text/html": [
       "<div>\n",
       "<style scoped>\n",
       "    .dataframe tbody tr th:only-of-type {\n",
       "        vertical-align: middle;\n",
       "    }\n",
       "\n",
       "    .dataframe tbody tr th {\n",
       "        vertical-align: top;\n",
       "    }\n",
       "\n",
       "    .dataframe thead th {\n",
       "        text-align: right;\n",
       "    }\n",
       "</style>\n",
       "<table border=\"1\" class=\"dataframe\">\n",
       "  <thead>\n",
       "    <tr style=\"text-align: right;\">\n",
       "      <th></th>\n",
       "      <th>importance</th>\n",
       "      <th>feature</th>\n",
       "    </tr>\n",
       "  </thead>\n",
       "  <tbody>\n",
       "    <tr>\n",
       "      <th>30</th>\n",
       "      <td>0.449503</td>\n",
       "      <td>prev_call_duration</td>\n",
       "    </tr>\n",
       "    <tr>\n",
       "      <th>33</th>\n",
       "      <td>0.296892</td>\n",
       "      <td>cpi</td>\n",
       "    </tr>\n",
       "    <tr>\n",
       "      <th>32</th>\n",
       "      <td>0.075304</td>\n",
       "      <td>num_contacts_prev</td>\n",
       "    </tr>\n",
       "    <tr>\n",
       "      <th>31</th>\n",
       "      <td>0.043694</td>\n",
       "      <td>days_since_last_call</td>\n",
       "    </tr>\n",
       "    <tr>\n",
       "      <th>28</th>\n",
       "      <td>0.024268</td>\n",
       "      <td>poutcome_nonexistent</td>\n",
       "    </tr>\n",
       "    <tr>\n",
       "      <th>29</th>\n",
       "      <td>0.017932</td>\n",
       "      <td>poutcome_success</td>\n",
       "    </tr>\n",
       "    <tr>\n",
       "      <th>3</th>\n",
       "      <td>0.010471</td>\n",
       "      <td>age_bracket_60+</td>\n",
       "    </tr>\n",
       "    <tr>\n",
       "      <th>15</th>\n",
       "      <td>0.007312</td>\n",
       "      <td>education_bachelors</td>\n",
       "    </tr>\n",
       "    <tr>\n",
       "      <th>6</th>\n",
       "      <td>0.006457</td>\n",
       "      <td>job_other</td>\n",
       "    </tr>\n",
       "    <tr>\n",
       "      <th>12</th>\n",
       "      <td>0.006090</td>\n",
       "      <td>marital_married</td>\n",
       "    </tr>\n",
       "    <tr>\n",
       "      <th>24</th>\n",
       "      <td>0.005671</td>\n",
       "      <td>has_personal_loan_no</td>\n",
       "    </tr>\n",
       "    <tr>\n",
       "      <th>4</th>\n",
       "      <td>0.005258</td>\n",
       "      <td>job_blue-collar</td>\n",
       "    </tr>\n",
       "    <tr>\n",
       "      <th>13</th>\n",
       "      <td>0.005252</td>\n",
       "      <td>marital_single</td>\n",
       "    </tr>\n",
       "    <tr>\n",
       "      <th>8</th>\n",
       "      <td>0.005005</td>\n",
       "      <td>job_self-employed</td>\n",
       "    </tr>\n",
       "    <tr>\n",
       "      <th>11</th>\n",
       "      <td>0.003688</td>\n",
       "      <td>marital_divorced</td>\n",
       "    </tr>\n",
       "    <tr>\n",
       "      <th>18</th>\n",
       "      <td>0.003428</td>\n",
       "      <td>education_secondary</td>\n",
       "    </tr>\n",
       "    <tr>\n",
       "      <th>23</th>\n",
       "      <td>0.003293</td>\n",
       "      <td>has_housing_loan_yes</td>\n",
       "    </tr>\n",
       "    <tr>\n",
       "      <th>21</th>\n",
       "      <td>0.003214</td>\n",
       "      <td>has_housing_loan_no</td>\n",
       "    </tr>\n",
       "    <tr>\n",
       "      <th>1</th>\n",
       "      <td>0.003202</td>\n",
       "      <td>age_bracket_25-40</td>\n",
       "    </tr>\n",
       "    <tr>\n",
       "      <th>0</th>\n",
       "      <td>0.003134</td>\n",
       "      <td>age_bracket_18-24</td>\n",
       "    </tr>\n",
       "  </tbody>\n",
       "</table>\n",
       "</div>"
      ],
      "text/plain": [
       "    importance               feature\n",
       "30    0.449503    prev_call_duration\n",
       "33    0.296892                   cpi\n",
       "32    0.075304     num_contacts_prev\n",
       "31    0.043694  days_since_last_call\n",
       "28    0.024268  poutcome_nonexistent\n",
       "29    0.017932      poutcome_success\n",
       "3     0.010471       age_bracket_60+\n",
       "15    0.007312   education_bachelors\n",
       "6     0.006457             job_other\n",
       "12    0.006090       marital_married\n",
       "24    0.005671  has_personal_loan_no\n",
       "4     0.005258       job_blue-collar\n",
       "13    0.005252        marital_single\n",
       "8     0.005005     job_self-employed\n",
       "11    0.003688      marital_divorced\n",
       "18    0.003428   education_secondary\n",
       "23    0.003293  has_housing_loan_yes\n",
       "21    0.003214   has_housing_loan_no\n",
       "1     0.003202     age_bracket_25-40\n",
       "0     0.003134     age_bracket_18-24"
      ]
     },
     "execution_count": 72,
     "metadata": {},
     "output_type": "execute_result"
    }
   ],
   "source": [
    "feature_importance"
   ]
  },
  {
   "cell_type": "code",
   "execution_count": 78,
   "metadata": {},
   "outputs": [
    {
     "data": {
      "image/png": "[encoded data removed]",
      "text/plain": [
       "<Figure size 864x576 with 1 Axes>"
      ]
     },
     "metadata": {
      "needs_background": "light"
     },
     "output_type": "display_data"
    }
   ],
   "source": [
    "#Visualize\n",
    "plt.figure(figsize=(12,8));\n",
    "sns.barplot(y='feature', x='importance', data=feature_importance);\n",
    "plt.xticks(rotation=45);"
   ]
  },
  {
   "cell_type": "markdown",
   "metadata": {},
   "source": [
    "The most important feature is `prev_call_duration` followed by `cpi`, `num_contacts_prev` and `days_since_last_call`."
   ]
  },
  {
   "cell_type": "markdown",
   "metadata": {},
   "source": [
    "> #### Task:\n",
    "- **Submit the predictions on the test dataset using your optimized model** <br/>\n",
    "    For each record in the Test set (test.csv), you must predict the 'subs_deposit' variable (1/0). The 1/0 would depend on the **best F1 score**.\n",
    "    You should submit a CSV file with test entries plus a header row. Your submission will show an error if you have extra columns beyond 'client_id' and 'subs_deposit' or extra rows.\n",
    "The file (`submission.csv`) should have exactly 2 columns:\n",
    "    - **client_id**\n",
    "    - **subs_deposit** (contains 1/0)"
   ]
  },
  {
   "cell_type": "code",
   "execution_count": 10,
   "metadata": {},
   "outputs": [
    {
     "name": "stdout",
     "output_type": "stream",
     "text": [
      "(1000, 13)\n"
     ]
    },
    {
     "data": {
      "text/html": [
       "<div>\n",
       "<style scoped>\n",
       "    .dataframe tbody tr th:only-of-type {\n",
       "        vertical-align: middle;\n",
       "    }\n",
       "\n",
       "    .dataframe tbody tr th {\n",
       "        vertical-align: top;\n",
       "    }\n",
       "\n",
       "    .dataframe thead th {\n",
       "        text-align: right;\n",
       "    }\n",
       "</style>\n",
       "<table border=\"1\" class=\"dataframe\">\n",
       "  <thead>\n",
       "    <tr style=\"text-align: right;\">\n",
       "      <th></th>\n",
       "      <th>client_id</th>\n",
       "      <th>age_bracket</th>\n",
       "      <th>job</th>\n",
       "      <th>marital</th>\n",
       "      <th>education</th>\n",
       "      <th>has_housing_loan</th>\n",
       "      <th>has_personal_loan</th>\n",
       "      <th>prev_call_duration</th>\n",
       "      <th>days_since_last_call</th>\n",
       "      <th>num_contacts_prev</th>\n",
       "      <th>poutcome</th>\n",
       "      <th>contact_date</th>\n",
       "      <th>cpi</th>\n",
       "    </tr>\n",
       "  </thead>\n",
       "  <tbody>\n",
       "    <tr>\n",
       "      <th>0</th>\n",
       "      <td>19271</td>\n",
       "      <td>25-40</td>\n",
       "      <td>pink-collar</td>\n",
       "      <td>married</td>\n",
       "      <td>senior_secondary</td>\n",
       "      <td>no</td>\n",
       "      <td>no</td>\n",
       "      <td>176700</td>\n",
       "      <td>999</td>\n",
       "      <td>0</td>\n",
       "      <td>nonexistent</td>\n",
       "      <td>2018-03-07</td>\n",
       "      <td>93.918</td>\n",
       "    </tr>\n",
       "    <tr>\n",
       "      <th>1</th>\n",
       "      <td>36488</td>\n",
       "      <td>41-60</td>\n",
       "      <td>other</td>\n",
       "      <td>married</td>\n",
       "      <td>secondary</td>\n",
       "      <td>no</td>\n",
       "      <td>no</td>\n",
       "      <td>597</td>\n",
       "      <td>3</td>\n",
       "      <td>2</td>\n",
       "      <td>success</td>\n",
       "      <td>2018-01-11</td>\n",
       "      <td>947.670</td>\n",
       "    </tr>\n",
       "    <tr>\n",
       "      <th>2</th>\n",
       "      <td>2750</td>\n",
       "      <td>41-60</td>\n",
       "      <td>white-collar</td>\n",
       "      <td>married</td>\n",
       "      <td>secondary</td>\n",
       "      <td>yes</td>\n",
       "      <td>no</td>\n",
       "      <td>358</td>\n",
       "      <td>999</td>\n",
       "      <td>0</td>\n",
       "      <td>nonexistent</td>\n",
       "      <td>2018-01-05</td>\n",
       "      <td>93.994</td>\n",
       "    </tr>\n",
       "    <tr>\n",
       "      <th>3</th>\n",
       "      <td>4797</td>\n",
       "      <td>25-40</td>\n",
       "      <td>white-collar</td>\n",
       "      <td>single</td>\n",
       "      <td>senior_secondary</td>\n",
       "      <td>no</td>\n",
       "      <td>no</td>\n",
       "      <td>197</td>\n",
       "      <td>999</td>\n",
       "      <td>1</td>\n",
       "      <td>failure</td>\n",
       "      <td>2018-01-05</td>\n",
       "      <td>92.893</td>\n",
       "    </tr>\n",
       "    <tr>\n",
       "      <th>4</th>\n",
       "      <td>29971</td>\n",
       "      <td>41-60</td>\n",
       "      <td>technician</td>\n",
       "      <td>married</td>\n",
       "      <td>masters</td>\n",
       "      <td>yes</td>\n",
       "      <td>no</td>\n",
       "      <td>210</td>\n",
       "      <td>999</td>\n",
       "      <td>0</td>\n",
       "      <td>nonexistent</td>\n",
       "      <td>2018-01-08</td>\n",
       "      <td>92.201</td>\n",
       "    </tr>\n",
       "  </tbody>\n",
       "</table>\n",
       "</div>"
      ],
      "text/plain": [
       "   client_id age_bracket           job  marital         education  \\\n",
       "0      19271       25-40   pink-collar  married  senior_secondary   \n",
       "1      36488       41-60         other  married         secondary   \n",
       "2       2750       41-60  white-collar  married         secondary   \n",
       "3       4797       25-40  white-collar   single  senior_secondary   \n",
       "4      29971       41-60    technician  married           masters   \n",
       "\n",
       "  has_housing_loan has_personal_loan  prev_call_duration  \\\n",
       "0               no                no              176700   \n",
       "1               no                no                 597   \n",
       "2              yes                no                 358   \n",
       "3               no                no                 197   \n",
       "4              yes                no                 210   \n",
       "\n",
       "   days_since_last_call  num_contacts_prev     poutcome contact_date      cpi  \n",
       "0                   999                  0  nonexistent   2018-03-07   93.918  \n",
       "1                     3                  2      success   2018-01-11  947.670  \n",
       "2                   999                  0  nonexistent   2018-01-05   93.994  \n",
       "3                   999                  1      failure   2018-01-05   92.893  \n",
       "4                   999                  0  nonexistent   2018-01-08   92.201  "
      ]
     },
     "execution_count": 10,
     "metadata": {},
     "output_type": "execute_result"
    }
   ],
   "source": [
    "#Loading Test data\n",
    "data_test=pd.read_csv(\"test.csv\",parse_dates = ['contact_date'])\n",
    "\n",
    "print(data_test.shape)\n",
    "data_test.head()"
   ]
  },
  {
   "cell_type": "code",
   "execution_count": 11,
   "metadata": {},
   "outputs": [
    {
     "data": {
      "text/plain": [
       "client_id               0\n",
       "age_bracket             0\n",
       "job                     0\n",
       "marital                 0\n",
       "education               0\n",
       "has_housing_loan        0\n",
       "has_personal_loan       0\n",
       "prev_call_duration      0\n",
       "days_since_last_call    0\n",
       "num_contacts_prev       0\n",
       "poutcome                0\n",
       "contact_date            0\n",
       "cpi                     0\n",
       "dtype: int64"
      ]
     },
     "execution_count": 11,
     "metadata": {},
     "output_type": "execute_result"
    }
   ],
   "source": [
    "data_test.isnull().sum(axis = 0)"
   ]
  },
  {
   "cell_type": "markdown",
   "metadata": {},
   "source": [
    "1000 rows are present in the test set, no missing value is present."
   ]
  },
  {
   "cell_type": "code",
   "execution_count": 12,
   "metadata": {},
   "outputs": [
    {
     "data": {
      "text/html": [
       "<div>\n",
       "<style scoped>\n",
       "    .dataframe tbody tr th:only-of-type {\n",
       "        vertical-align: middle;\n",
       "    }\n",
       "\n",
       "    .dataframe tbody tr th {\n",
       "        vertical-align: top;\n",
       "    }\n",
       "\n",
       "    .dataframe thead th {\n",
       "        text-align: right;\n",
       "    }\n",
       "</style>\n",
       "<table border=\"1\" class=\"dataframe\">\n",
       "  <thead>\n",
       "    <tr style=\"text-align: right;\">\n",
       "      <th></th>\n",
       "      <th>client_id</th>\n",
       "      <th>prev_call_duration</th>\n",
       "      <th>days_since_last_call</th>\n",
       "      <th>num_contacts_prev</th>\n",
       "      <th>cpi</th>\n",
       "    </tr>\n",
       "  </thead>\n",
       "  <tbody>\n",
       "    <tr>\n",
       "      <th>count</th>\n",
       "      <td>1000.000000</td>\n",
       "      <td>1000.000000</td>\n",
       "      <td>1000.000000</td>\n",
       "      <td>1000.000000</td>\n",
       "      <td>1000.000000</td>\n",
       "    </tr>\n",
       "    <tr>\n",
       "      <th>mean</th>\n",
       "      <td>21543.103000</td>\n",
       "      <td>3208.672000</td>\n",
       "      <td>906.659000</td>\n",
       "      <td>0.298000</td>\n",
       "      <td>110.547763</td>\n",
       "    </tr>\n",
       "    <tr>\n",
       "      <th>std</th>\n",
       "      <td>12435.531029</td>\n",
       "      <td>22406.857215</td>\n",
       "      <td>288.521402</td>\n",
       "      <td>0.680926</td>\n",
       "      <td>119.531699</td>\n",
       "    </tr>\n",
       "    <tr>\n",
       "      <th>min</th>\n",
       "      <td>37.000000</td>\n",
       "      <td>6.000000</td>\n",
       "      <td>0.000000</td>\n",
       "      <td>0.000000</td>\n",
       "      <td>92.201000</td>\n",
       "    </tr>\n",
       "    <tr>\n",
       "      <th>5%</th>\n",
       "      <td>1984.450000</td>\n",
       "      <td>51.950000</td>\n",
       "      <td>6.000000</td>\n",
       "      <td>0.000000</td>\n",
       "      <td>92.428400</td>\n",
       "    </tr>\n",
       "    <tr>\n",
       "      <th>50%</th>\n",
       "      <td>21723.000000</td>\n",
       "      <td>243.000000</td>\n",
       "      <td>999.000000</td>\n",
       "      <td>0.000000</td>\n",
       "      <td>93.444000</td>\n",
       "    </tr>\n",
       "    <tr>\n",
       "      <th>95%</th>\n",
       "      <td>39651.150000</td>\n",
       "      <td>1033.100000</td>\n",
       "      <td>999.000000</td>\n",
       "      <td>2.000000</td>\n",
       "      <td>94.465000</td>\n",
       "    </tr>\n",
       "    <tr>\n",
       "      <th>97.5%</th>\n",
       "      <td>40681.100000</td>\n",
       "      <td>1228.100000</td>\n",
       "      <td>999.000000</td>\n",
       "      <td>2.000000</td>\n",
       "      <td>94.465000</td>\n",
       "    </tr>\n",
       "    <tr>\n",
       "      <th>99%</th>\n",
       "      <td>40942.380000</td>\n",
       "      <td>144854.000000</td>\n",
       "      <td>999.000000</td>\n",
       "      <td>3.000000</td>\n",
       "      <td>946.026600</td>\n",
       "    </tr>\n",
       "    <tr>\n",
       "      <th>max</th>\n",
       "      <td>41115.000000</td>\n",
       "      <td>269200.000000</td>\n",
       "      <td>999.000000</td>\n",
       "      <td>5.000000</td>\n",
       "      <td>947.670000</td>\n",
       "    </tr>\n",
       "  </tbody>\n",
       "</table>\n",
       "</div>"
      ],
      "text/plain": [
       "          client_id  prev_call_duration  days_since_last_call  \\\n",
       "count   1000.000000         1000.000000           1000.000000   \n",
       "mean   21543.103000         3208.672000            906.659000   \n",
       "std    12435.531029        22406.857215            288.521402   \n",
       "min       37.000000            6.000000              0.000000   \n",
       "5%      1984.450000           51.950000              6.000000   \n",
       "50%    21723.000000          243.000000            999.000000   \n",
       "95%    39651.150000         1033.100000            999.000000   \n",
       "97.5%  40681.100000         1228.100000            999.000000   \n",
       "99%    40942.380000       144854.000000            999.000000   \n",
       "max    41115.000000       269200.000000            999.000000   \n",
       "\n",
       "       num_contacts_prev          cpi  \n",
       "count        1000.000000  1000.000000  \n",
       "mean            0.298000   110.547763  \n",
       "std             0.680926   119.531699  \n",
       "min             0.000000    92.201000  \n",
       "5%              0.000000    92.428400  \n",
       "50%             0.000000    93.444000  \n",
       "95%             2.000000    94.465000  \n",
       "97.5%           2.000000    94.465000  \n",
       "99%             3.000000   946.026600  \n",
       "max             5.000000   947.670000  "
      ]
     },
     "execution_count": 12,
     "metadata": {},
     "output_type": "execute_result"
    }
   ],
   "source": [
    "#Description\n",
    "data_test.describe(percentiles = [0.05,0.5,0.95,0.975,0.99])"
   ]
  },
  {
   "cell_type": "markdown",
   "metadata": {},
   "source": [
    "As seen in the training set, the test set also suffer from errors in the `prev_call_duration` and `cpi` field. To make the predictions, we will manually impute these abnormally high values with the mean."
   ]
  },
  {
   "cell_type": "code",
   "execution_count": 79,
   "metadata": {},
   "outputs": [],
   "source": [
    "#Impute abnormally high values with mean\n",
    "data_test['prev_call_duration'] = np.where(data_test['prev_call_duration'] >1440, \n",
    "                                           data_test['prev_call_duration'].mean(), data_test['prev_call_duration']) \n",
    "data_test['cpi'] = np.where(data_test['cpi'] >100, \n",
    "                                           data_test['cpi'].mean(), data_test['cpi']) "
   ]
  },
  {
   "cell_type": "code",
   "execution_count": 80,
   "metadata": {},
   "outputs": [],
   "source": [
    "#Separate features for the test data\n",
    "numeric_features_test = data_test[['prev_call_duration', 'days_since_last_call', 'num_contacts_prev','cpi']]\n",
    "cat_features_test = data_test[['age_bracket','job', 'marital','education', 'has_housing_loan', 'has_personal_loan', 'poutcome']]"
   ]
  },
  {
   "cell_type": "code",
   "execution_count": 81,
   "metadata": {},
   "outputs": [],
   "source": [
    "#One hot encode for the test data\n",
    "cat_features_encoded_test = pd.get_dummies(cat_features_test)"
   ]
  },
  {
   "cell_type": "code",
   "execution_count": 82,
   "metadata": {},
   "outputs": [],
   "source": [
    "#Concat features together for the test data\n",
    "x_test = pd.concat([cat_features_encoded_test, numeric_features_test], axis=1, sort=False)"
   ]
  },
  {
   "cell_type": "code",
   "execution_count": 88,
   "metadata": {},
   "outputs": [],
   "source": [
    "#Get prediection from best model and append to test data\n",
    "prediction = pd.DataFrame({'subs_deposit':best_model.predict(x_test)})\n",
    "data_sub = pd.concat([data_test, prediction], axis=1, sort=False)"
   ]
  },
  {
   "cell_type": "code",
   "execution_count": 90,
   "metadata": {},
   "outputs": [],
   "source": [
    "#Submission\n",
    "data_sub[['client_id','subs_deposit']].to_csv('submissions.csv',index=False)"
   ]
  },
  {
   "cell_type": "markdown",
   "metadata": {},
   "source": [
    "## Side Note\n",
    "\n",
    "Given CPI is less than 100, the economy is likely in a declining environment with deflation as one of the symptoms. During deflation, the demand for spending and lending will drop. Since the bank's end goal is to use the deposit to fund lending, it's important to forecast lending demand first, and monitor the capital utilisation rate. It'll be quite costly to the bank if it's able to attract a lot of deposit, but not much lending demand."
   ]
  },
  {
   "cell_type": "code",
   "execution_count": null,
   "metadata": {},
   "outputs": [],
   "source": []
  }
 ],
 "metadata": {
  "kernelspec": {
   "display_name": "Python 3",
   "language": "python",
   "name": "python3"
  },
  "language_info": {
   "codemirror_mode": {
    "name": "ipython",
    "version": 3
   },
   "file_extension": ".py",
   "mimetype": "text/x-python",
   "name": "python",
   "nbconvert_exporter": "python",
   "pygments_lexer": "ipython3",
   "version": "3.7.4"
  },
  "toc": {
   "base_numbering": 1,
   "nav_menu": {},
   "number_sections": true,
   "sideBar": true,
   "skip_h1_title": false,
   "title_cell": "Table of Contents",
   "title_sidebar": "Contents",
   "toc_cell": false,
   "toc_position": {},
   "toc_section_display": true,
   "toc_window_display": false
  }
 },
 "nbformat": 4,
 "nbformat_minor": 4
}
